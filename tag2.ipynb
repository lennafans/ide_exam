{
 "cells": [
  {
   "cell_type": "code",
   "execution_count": 56,
   "metadata": {},
   "outputs": [],
   "source": [
    "%matplotlib inline\n",
    "import os\n",
    "import json\n",
    "from collections import defaultdict\n",
    "import operator\n",
    "import pandas as pd\n",
    "import numpy as np\n",
    "from sklearn.cluster import KMeans\n",
    "from sklearn.preprocessing import Normalizer\n",
    "from sklearn.decomposition import PCA\n",
    "from sklearn.pipeline import make_pipeline\n",
    "from sklearn.preprocessing import StandardScaler\n",
    "import time\n",
    "import json\n",
    "from scipy import spatial\n",
    "import pandas as pd\n",
    "import sys\n",
    "import joblib"
   ]
  },
  {
   "cell_type": "code",
   "execution_count": 57,
   "metadata": {},
   "outputs": [],
   "source": [
    "n_tags = 500 #Number of tags"
   ]
  },
  {
   "cell_type": "code",
   "execution_count": 58,
   "metadata": {},
   "outputs": [],
   "source": [
    "#Create tag dict\n",
    "tags = defaultdict(int)\n",
    "with open(\"lastfm_unique_tags.txt\") as tagfile:\n",
    "    for x in range(n_tags):\n",
    "        tag = tagfile.readline().split(\"\\t\")\n",
    "        tags[tag[0]] = int(tag[1][0:-1])"
   ]
  },
  {
   "cell_type": "code",
   "execution_count": 59,
   "metadata": {},
   "outputs": [],
   "source": [
    "\n",
    "sorted_tags = sorted(tags.items(), key=operator.itemgetter(1), reverse=True)\n",
    "indexed_tags = [(t[1][0], t[0]) for t in enumerate(sorted_tags[:n_tags])]"
   ]
  },
  {
   "cell_type": "code",
   "execution_count": 60,
   "metadata": {},
   "outputs": [],
   "source": [
    "#Create song vector\n",
    "song_vector = defaultdict(int)\n",
    "for root, subdirs, files in os.walk(\"data/lastfm_test/\"):\n",
    "    for file in files:\n",
    "        with open(os.path.join(root, file)) as file_data:\n",
    "            file_data = json.load(file_data)\n",
    "            vector = []\n",
    "            file_tags = dict(file_data['tags'])\n",
    "            for tag in indexed_tags:\n",
    "                if tag[0] in file_tags:\n",
    "                    vector.append(int(file_tags[tag[0]]))\n",
    "                else:\n",
    "                    vector.append(0)\n",
    "            name = file_data['artist']+' - '+file_data['title']\n",
    "            song_vector[name] = vector"
   ]
  },
  {
   "cell_type": "code",
   "execution_count": 8,
   "metadata": {},
   "outputs": [
    {
     "name": "stdout",
     "output_type": "stream",
     "text": [
      "6817\n"
     ]
    }
   ],
   "source": [
    "#print(list(song_vector.values())[3])\n",
    "\n",
    "song_vec = [] #Vector with song IDs\n",
    "tag_vec = [] #Vector with tags\n",
    "\n",
    "# Remove all items with fewer tags than 10 \n",
    "for song in song_vector.items():\n",
    "    if song[1].count(0)<490:\n",
    "        song_vec.append(song[0])\n",
    "        tag_vec.append(song[1])\n",
    "\n",
    "#Number of songs in final data\n",
    "print(len(song_vec)) \n",
    "\n",
    "#Create spatial tree to calculate find nearest vectors\n",
    "tree = spatial.KDTree(tag_vec)"
   ]
  },
  {
   "cell_type": "code",
   "execution_count": 9,
   "metadata": {},
   "outputs": [
    {
     "name": "stdout",
     "output_type": "stream",
     "text": [
      "1306.3692181110382\n"
     ]
    }
   ],
   "source": [
    "# Create sim_vec by querying tree, print time\n",
    "start = time.time() #Time\n",
    "sim_vec = [tree.query(list(tags),10) for tags in tag_vec] #Similarity vector\n",
    "end = time.time() #Time\n",
    "print(end - start)"
   ]
  },
  {
   "cell_type": "code",
   "execution_count": 75,
   "metadata": {},
   "outputs": [
    {
     "name": "stdout",
     "output_type": "stream",
     "text": [
      "<class 'float'>\n"
     ]
    }
   ],
   "source": [
    "#Save initial, uncomment to save temp files:\n",
    "#joblib.dump(sim_vec2,'data/sim_vec')\n",
    "#joblib.dump(song_vec,'data/song_vec')\n",
    "#joblib.dump(tag_vec,'data/tag_vec')\n",
    "\n",
    "# Change similars and distances to tuple pairs instead a tuple of two lists\n",
    "sim_vec2 = [[(float(h),int(tup[1][i])) for i,h in enumerate(tup[0])] for tup in sim_vec]\n",
    "\n",
    "# Create json object for export\n",
    "output = []\n",
    "for i,e in enumerate(song_vec):\n",
    "    obj = defaultdict()\n",
    "    obj['id']=e\n",
    "    obj['similars']=sim_vec2[i]\n",
    "    output.append(obj)\n",
    "\n",
    "# Export json object\n",
    "with open('output.json', 'w') as outfile:\n",
    "    json.dump(output, outfile)\n",
    "\n",
    "print(type(sim_vec2[0][0][0]))"
   ]
  },
  {
   "cell_type": "code",
   "execution_count": null,
   "metadata": {},
   "outputs": [],
   "source": []
  }
 ],
 "metadata": {
  "kernelspec": {
   "display_name": "Python 3",
   "language": "python",
   "name": "python3"
  },
  "language_info": {
   "codemirror_mode": {
    "name": "ipython",
    "version": 3
   },
   "file_extension": ".py",
   "mimetype": "text/x-python",
   "name": "python",
   "nbconvert_exporter": "python",
   "pygments_lexer": "ipython3",
   "version": "3.6.3"
  }
 },
 "nbformat": 4,
 "nbformat_minor": 2
}
